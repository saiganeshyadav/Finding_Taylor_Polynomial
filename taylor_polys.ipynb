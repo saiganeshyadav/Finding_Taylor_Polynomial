{
 "cells": [
  {
   "cell_type": "code",
   "execution_count": 26,
   "metadata": {},
   "outputs": [],
   "source": [
    "import matplotlib.pyplot as plt\n",
    "%matplotlib inline\n",
    "import numpy as np\n",
    "from sympy import *"
   ]
  },
  {
   "cell_type": "code",
   "execution_count": 27,
   "metadata": {},
   "outputs": [],
   "source": [
    "x = Symbol(\"x\")\n",
    "y = 1/(2-x)"
   ]
  },
  {
   "cell_type": "code",
   "execution_count": 8,
   "metadata": {},
   "outputs": [],
   "source": [
    "y_1 = y.diff(x)"
   ]
  },
  {
   "cell_type": "code",
   "execution_count": 9,
   "metadata": {},
   "outputs": [
    {
     "data": {
      "text/latex": [
       "$\\displaystyle \\frac{1}{\\left(2 - x\\right)^{2}}$"
      ],
      "text/plain": [
       "(2 - x)**(-2)"
      ]
     },
     "execution_count": 9,
     "metadata": {},
     "output_type": "execute_result"
    }
   ],
   "source": [
    "y_1"
   ]
  },
  {
   "cell_type": "code",
   "execution_count": 10,
   "metadata": {},
   "outputs": [],
   "source": [
    "y_2 = y_1.diff(x)"
   ]
  },
  {
   "cell_type": "code",
   "execution_count": 12,
   "metadata": {},
   "outputs": [
    {
     "data": {
      "text/plain": [
       "sympy.core.mul.Mul"
      ]
     },
     "execution_count": 12,
     "metadata": {},
     "output_type": "execute_result"
    }
   ],
   "source": [
    "type(y_2)"
   ]
  },
  {
   "cell_type": "code",
   "execution_count": 28,
   "metadata": {},
   "outputs": [],
   "source": [
    "diff_list = []\n",
    "y_dummy = y\n",
    "for i in range(0,5,1):\n",
    "    y_dummy = y_dummy.diff(x)\n",
    "    diff_list.append(y_dummy)\n",
    "    "
   ]
  },
  {
   "cell_type": "code",
   "execution_count": 29,
   "metadata": {},
   "outputs": [
    {
     "data": {
      "text/plain": [
       "[(2 - x)**(-2), 2/(2 - x)**3, 6/(2 - x)**4, 24/(2 - x)**5, 120/(2 - x)**6]"
      ]
     },
     "execution_count": 29,
     "metadata": {},
     "output_type": "execute_result"
    }
   ],
   "source": [
    "diff_list"
   ]
  },
  {
   "cell_type": "code",
   "execution_count": 30,
   "metadata": {},
   "outputs": [],
   "source": [
    "diff_list.insert(0,y)"
   ]
  },
  {
   "cell_type": "code",
   "execution_count": 31,
   "metadata": {},
   "outputs": [
    {
     "data": {
      "text/plain": [
       "[1/(2 - x),\n",
       " (2 - x)**(-2),\n",
       " 2/(2 - x)**3,\n",
       " 6/(2 - x)**4,\n",
       " 24/(2 - x)**5,\n",
       " 120/(2 - x)**6]"
      ]
     },
     "execution_count": 31,
     "metadata": {},
     "output_type": "execute_result"
    }
   ],
   "source": [
    "diff_list"
   ]
  },
  {
   "cell_type": "code",
   "execution_count": 32,
   "metadata": {},
   "outputs": [],
   "source": [
    "diff_values = []\n",
    "x = Symbol(\"x\")\n",
    "for i in diff_list:\n",
    "    y_val = i.subs(x,0)\n",
    "    diff_values.append(y_val)\n",
    "    "
   ]
  },
  {
   "cell_type": "code",
   "execution_count": 33,
   "metadata": {},
   "outputs": [
    {
     "data": {
      "text/plain": [
       "[1/2, 1/4, 1/4, 3/8, 3/4, 15/8]"
      ]
     },
     "execution_count": 33,
     "metadata": {},
     "output_type": "execute_result"
    }
   ],
   "source": [
    "diff_values"
   ]
  },
  {
   "cell_type": "code",
   "execution_count": 43,
   "metadata": {},
   "outputs": [],
   "source": [
    "import math\n",
    "X = Symbol('X')\n",
    "a = Symbol('a')\n",
    "taylor_polys = []\n",
    "expr = 0\n",
    "for j in range(1,7,1):\n",
    "    for k in range(0,j,1):\n",
    "        expr = expr + (diff_values[k]*((X-a)**k/math.factorial(int(k))))\n",
    "        taylor_polys.append(expr)\n",
    "    expr = 0\n"
   ]
  },
  {
   "cell_type": "code",
   "execution_count": 44,
   "metadata": {},
   "outputs": [
    {
     "data": {
      "text/plain": [
       "[1/2,\n",
       " 1/2,\n",
       " X/4 - a/4 + 1/2,\n",
       " 1/2,\n",
       " X/4 - a/4 + 1/2,\n",
       " X/4 - a/4 + (X - a)**2/8 + 1/2,\n",
       " 1/2,\n",
       " X/4 - a/4 + 1/2,\n",
       " X/4 - a/4 + (X - a)**2/8 + 1/2,\n",
       " X/4 - a/4 + (X - a)**3/16 + (X - a)**2/8 + 1/2,\n",
       " 1/2,\n",
       " X/4 - a/4 + 1/2,\n",
       " X/4 - a/4 + (X - a)**2/8 + 1/2,\n",
       " X/4 - a/4 + (X - a)**3/16 + (X - a)**2/8 + 1/2,\n",
       " X/4 - a/4 + (X - a)**4/32 + (X - a)**3/16 + (X - a)**2/8 + 1/2,\n",
       " 1/2,\n",
       " X/4 - a/4 + 1/2,\n",
       " X/4 - a/4 + (X - a)**2/8 + 1/2,\n",
       " X/4 - a/4 + (X - a)**3/16 + (X - a)**2/8 + 1/2,\n",
       " X/4 - a/4 + (X - a)**4/32 + (X - a)**3/16 + (X - a)**2/8 + 1/2,\n",
       " X/4 - a/4 + (X - a)**5/64 + (X - a)**4/32 + (X - a)**3/16 + (X - a)**2/8 + 1/2]"
      ]
     },
     "execution_count": 44,
     "metadata": {},
     "output_type": "execute_result"
    }
   ],
   "source": [
    "taylor_polys"
   ]
  },
  {
   "cell_type": "code",
   "execution_count": 47,
   "metadata": {},
   "outputs": [],
   "source": [
    "taylor_polynomials = taylor_polys[15:21]"
   ]
  },
  {
   "cell_type": "code",
   "execution_count": 48,
   "metadata": {},
   "outputs": [
    {
     "data": {
      "text/plain": [
       "[1/2,\n",
       " X/4 - a/4 + 1/2,\n",
       " X/4 - a/4 + (X - a)**2/8 + 1/2,\n",
       " X/4 - a/4 + (X - a)**3/16 + (X - a)**2/8 + 1/2,\n",
       " X/4 - a/4 + (X - a)**4/32 + (X - a)**3/16 + (X - a)**2/8 + 1/2,\n",
       " X/4 - a/4 + (X - a)**5/64 + (X - a)**4/32 + (X - a)**3/16 + (X - a)**2/8 + 1/2]"
      ]
     },
     "execution_count": 48,
     "metadata": {},
     "output_type": "execute_result"
    }
   ],
   "source": [
    "taylor_polynomials"
   ]
  },
  {
   "cell_type": "code",
   "execution_count": 76,
   "metadata": {},
   "outputs": [
    {
     "name": "stdout",
     "output_type": "stream",
     "text": [
      "[1/2, X/4 + 1/2, X**2/8 + X/4 + 1/2, X**3/16 + X**2/8 + X/4 + 1/2, X**4/32 + X**3/16 + X**2/8 + X/4 + 1/2, X**5/64 + X**4/32 + X**3/16 + X**2/8 + X/4 + 1/2]\n"
     ]
    }
   ],
   "source": [
    "#Truncation error for suppose x = 1\n",
    "error = 0\n",
    "x = Symbol(\"x\")\n",
    "X = Symbol('X')\n",
    "a = Symbol(\"a\")\n",
    "y = 1/(2-x)\n",
    "trunc_errors = []\n",
    "l = []\n",
    "for m in taylor_polynomials:\n",
    "    l.append(m.subs(a,0))\n",
    "    \n",
    "print(l)\n",
    "for g in l:\n",
    "    error = (y.subs(x,1)) - (g.subs(X,1))\n",
    "    trunc_errors.append(error)\n",
    "\n",
    "\n"
   ]
  },
  {
   "cell_type": "code",
   "execution_count": 77,
   "metadata": {},
   "outputs": [
    {
     "data": {
      "text/plain": [
       "[1/2, 1/4, 1/8, 1/16, 1/32, 1/64]"
      ]
     },
     "execution_count": 77,
     "metadata": {},
     "output_type": "execute_result"
    }
   ],
   "source": [
    "trunc_errors"
   ]
  },
  {
   "cell_type": "code",
   "execution_count": 78,
   "metadata": {},
   "outputs": [],
   "source": [
    "#truncation errors also finded above by using formula error = true_value - estimated_value."
   ]
  },
  {
   "cell_type": "code",
   "execution_count": 80,
   "metadata": {},
   "outputs": [
    {
     "name": "stdout",
     "output_type": "stream",
     "text": [
      "P0 = 1/2\n",
      "P1 = X/4 - a/4 + 1/2\n",
      "P2 = X/4 - a/4 + (X - a)**2/8 + 1/2\n",
      "P3 = X/4 - a/4 + (X - a)**3/16 + (X - a)**2/8 + 1/2\n",
      "P4 = X/4 - a/4 + (X - a)**4/32 + (X - a)**3/16 + (X - a)**2/8 + 1/2\n",
      "P5 = X/4 - a/4 + (X - a)**5/64 + (X - a)**4/32 + (X - a)**3/16 + (X - a)**2/8 + 1/2\n"
     ]
    }
   ],
   "source": [
    "#printed taylor polynomials.\n",
    "d = 0\n",
    "for h in taylor_polynomials:\n",
    "    print('P{}'.format(d),'=',h)\n",
    "    d = d + 1\n",
    "    "
   ]
  },
  {
   "cell_type": "code",
   "execution_count": 81,
   "metadata": {},
   "outputs": [
    {
     "name": "stdout",
     "output_type": "stream",
     "text": [
      "P0 truncated_error = 1/2\n",
      "P1 truncated_error = 1/4\n",
      "P2 truncated_error = 1/8\n",
      "P3 truncated_error = 1/16\n",
      "P4 truncated_error = 1/32\n",
      "P5 truncated_error = 1/64\n"
     ]
    }
   ],
   "source": [
    "w = 0\n",
    "for c in trunc_errors:\n",
    "    print('P{}'.format(w),'truncated_error','=',c)\n",
    "    w = w + 1"
   ]
  },
  {
   "cell_type": "code",
   "execution_count": 82,
   "metadata": {},
   "outputs": [],
   "source": [
    "import matplotlib.pyplot as plt\n",
    "%matplotlib inline"
   ]
  },
  {
   "cell_type": "code",
   "execution_count": 86,
   "metadata": {},
   "outputs": [
    {
     "name": "stderr",
     "output_type": "stream",
     "text": [
      "C:\\Users\\Sai Ganesh Yadav\\AppData\\Local\\Continuum\\anaconda3\\lib\\site-packages\\ipykernel_launcher.py:2: RuntimeWarning: divide by zero encountered in true_divide\n",
      "  \n"
     ]
    },
    {
     "data": {
      "text/plain": [
       "[<matplotlib.lines.Line2D at 0x174a0c497c8>]"
      ]
     },
     "execution_count": 86,
     "metadata": {},
     "output_type": "execute_result"
    },
    {
     "data": {
      "image/png": "[encoded data removed]",
      "text/plain": [
       "<Figure size 432x288 with 1 Axes>"
      ]
     },
     "metadata": {
      "needs_background": "light"
     },
     "output_type": "display_data"
    }
   ],
   "source": [
    "x = np.arange(-10,10)\n",
    "y = 1/(2-x)\n",
    "plt.plot(x,y)"
   ]
  },
  {
   "cell_type": "code",
   "execution_count": null,
   "metadata": {},
   "outputs": [],
   "source": []
  },
  {
   "cell_type": "code",
   "execution_count": 105,
   "metadata": {},
   "outputs": [
    {
     "name": "stderr",
     "output_type": "stream",
     "text": [
      "C:\\Users\\Sai Ganesh Yadav\\AppData\\Local\\Continuum\\anaconda3\\lib\\site-packages\\ipykernel_launcher.py:2: RuntimeWarning: divide by zero encountered in true_divide\n",
      "  \n"
     ]
    },
    {
     "data": {
      "text/plain": [
       "[<matplotlib.lines.Line2D at 0x174a208b548>,\n",
       " <matplotlib.lines.Line2D at 0x174a2092888>,\n",
       " <matplotlib.lines.Line2D at 0x174a2092a48>,\n",
       " <matplotlib.lines.Line2D at 0x174a2092c08>,\n",
       " <matplotlib.lines.Line2D at 0x174a2092d48>,\n",
       " <matplotlib.lines.Line2D at 0x174a2092fc8>]"
      ]
     },
     "execution_count": 105,
     "metadata": {},
     "output_type": "execute_result"
    },
    {
     "data": {
      "image/png": "[encoded data removed]",
      "text/plain": [
       "<Figure size 432x288 with 1 Axes>"
      ]
     },
     "metadata": {
      "needs_background": "light"
     },
     "output_type": "display_data"
    }
   ],
   "source": [
    "x = np.arange(-10,10)\n",
    "y = 1/(2-x)\n",
    "p1 = ((x/4) + 1/2)\n",
    "p2 = ((x/4)  + (x)**2/8 + 1/2)\n",
    "p3 = ((x/4)  + (x)**3/16 + (x)**2/8 + 1/2)\n",
    "p4 = ((x/4)  + (x)**3/16 + (x)**2/8 + 1/2 + (x)**4/32)\n",
    "p5 = ((x/4)  + (x)**3/16 + (x)**2/8 + 1/2 + (x)**4/32 + (x)**5/64)\n",
    "plt.plot(x,y,x,p1,x,p2,x,p3,x,p4,x,p5)\n"
   ]
  },
  {
   "cell_type": "code",
   "execution_count": null,
   "metadata": {},
   "outputs": [],
   "source": []
  },
  {
   "cell_type": "code",
   "execution_count": null,
   "metadata": {},
   "outputs": [],
   "source": []
  }
 ],
 "metadata": {
  "kernelspec": {
   "display_name": "Python 3",
   "language": "python",
   "name": "python3"
  },
  "language_info": {
   "codemirror_mode": {
    "name": "ipython",
    "version": 3
   },
   "file_extension": ".py",
   "mimetype": "text/x-python",
   "name": "python",
   "nbconvert_exporter": "python",
   "pygments_lexer": "ipython3",
   "version": "3.9.2"
  }
 },
 "nbformat": 4,
 "nbformat_minor": 2
}
